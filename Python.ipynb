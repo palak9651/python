{
  "nbformat": 4,
  "nbformat_minor": 0,
  "metadata": {
    "colab": {
      "provenance": []
    },
    "kernelspec": {
      "name": "python3",
      "display_name": "Python 3"
    },
    "language_info": {
      "name": "python"
    }
  },
  "cells": [
    {
      "cell_type": "markdown",
      "source": [
        "# Python"
      ],
      "metadata": {
        "id": "IysViGT_xyIK"
      }
    },
    {
      "cell_type": "markdown",
      "source": [
        "1. what is Python why is it popular ?\n",
        "   Python is a programing language. It is  case sensitive programing languge. It is popular among developers and programmers because it is easy to understand\n",
        "\n",
        "2. What is an interpreter in Python ?\n",
        "   Interpreter in Python is a program that reads code line by line.\n",
        "\n",
        "3. What are pre-defined keywords in Python ?\n",
        "   Pre-ndefined keywords are reserved words in python that cannot be used as identifires. for ex - if , else , while , elif, for , etc.\n",
        "\n",
        "4. Can keywords be used as variable names ?\n",
        "   No key words cannot be used as variables.\n",
        "\n",
        "5. What is mutability in Python ?\n",
        "   In Python objects/container whose state or value can be changed after they are created are called mutable.\n",
        "?\n",
        "6. Why are lists mutable, but tuples are immutable   \n",
        "   In list we use squar brackets, while in tuple we use parenthesis.\n",
        "\n",
        "7. What is the difference between “==” and “is” operators in Python ?\n",
        "   \"==\" operater checks the equality of value while \"is\" operator checks the identity.\n",
        "\n",
        "8. What are logical operators in Python ?\n",
        "   Logical operator in Python used to combine or modify.\n",
        "\n",
        "9. What is type casting in Python ?\n",
        "   In python type casting used to change the format.\n",
        "\n",
        "10. What is the difference between implicit and explicit type casting ?\n",
        "   Implicit -type casting in python understand the datatype while explicit typecasting convert  data type using inbuilt function for ex str, int, float, boolean.\n",
        "\n",
        "11. What is the purpose of conditional statements in Python ?\n",
        "   In python conditional statement helps to code decision based on some pre conditions.\n",
        "\n",
        "12. How does the elif statement work ?\n",
        "   Elif statement is used for multiple conditions, if the first condition is false, it moves on to the next \"elif\" statement to check if that condition is true or false.\n",
        "\n",
        "13. What is the difference between for and while loops ?\n",
        "   While loop repeatedly executed a block of code untill a condition is met.\n",
        "   For loop iterate over a sequence of elemens.\n",
        "\n",
        "14. Describe a scenario where a while loop is more suitable than a for loop ?\n",
        "   While loop is more suitable when the repetition is dependent on a condition or don't know the number of times need to repeat a block of code.\n",
        "\n"
      ],
      "metadata": {
        "id": "MBdEnHccmEcU"
      }
    },
    {
      "cell_type": "code",
      "execution_count": null,
      "metadata": {
        "colab": {
          "base_uri": "https://localhost:8080/"
        },
        "id": "wKBPrXe5l0ej",
        "outputId": "27967895-7d3b-43f3-834f-8a22a9600475"
      },
      "outputs": [
        {
          "output_type": "stream",
          "name": "stdout",
          "text": [
            "Hello, world!\n"
          ]
        }
      ],
      "source": [
        "# 1. Write a Python program to print \"Hello, World!\"\n",
        "print(\"Hello, world!\")"
      ]
    },
    {
      "cell_type": "code",
      "source": [
        "# 2. Write a Python program that displays your name and age\n",
        "Name = \"Palak Patel\"\n",
        "Age = 30\n",
        "print(\"name: \", Name)\n",
        "print(\"age: \", Age)"
      ],
      "metadata": {
        "colab": {
          "base_uri": "https://localhost:8080/"
        },
        "id": "yYchtVhVzpf2",
        "outputId": "ca714b43-43e5-4a13-e74a-9e4e7c7eb6a3"
      },
      "execution_count": null,
      "outputs": [
        {
          "output_type": "stream",
          "name": "stdout",
          "text": [
            "name:  Palak Patel\n",
            "age:  30\n"
          ]
        }
      ]
    },
    {
      "cell_type": "code",
      "source": [
        "# 3. Create a list and tuple in Python, and demonstrate how attempting to change an element works differently\n",
        "    # for each.\n",
        "my_list = [\"Palak\",\"Nishit\",\"Divya\",34,45]\n",
        "my_tuple = (\"Palak\",\"Nishit\",\"Divya\",34,45)\n",
        "my_list[0] = \"Shail\"\n",
        "print(\"Updated my_list: \",my_list)\n"
      ],
      "metadata": {
        "colab": {
          "base_uri": "https://localhost:8080/"
        },
        "id": "lZG-imYAiNbl",
        "outputId": "8aaf1fff-f332-4138-9331-e19de1a75c6f"
      },
      "execution_count": 2,
      "outputs": [
        {
          "output_type": "stream",
          "name": "stdout",
          "text": [
            "Updated my_list:  ['Shail', 'Nishit', 'Divya', 34, 45]\n"
          ]
        }
      ]
    },
    {
      "cell_type": "code",
      "source": [
        "my_tuple == (\"Palak\",\"Nishit\",\"Divya\",34,45)\n",
        "my_tuple (0) == \"Shail\"\n",
        "print(\"updated my_tuple: \",my_tuple)"
      ],
      "metadata": {
        "id": "2e3obnr21sp-",
        "colab": {
          "base_uri": "https://localhost:8080/",
          "height": 176
        },
        "outputId": "4c1ba2e3-c639-4e47-825b-8e8f5b00dc61"
      },
      "execution_count": 4,
      "outputs": [
        {
          "output_type": "error",
          "ename": "TypeError",
          "evalue": "'tuple' object is not callable",
          "traceback": [
            "\u001b[0;31m---------------------------------------------------------------------------\u001b[0m",
            "\u001b[0;31mTypeError\u001b[0m                                 Traceback (most recent call last)",
            "\u001b[0;32m<ipython-input-4-cc53ca514d56>\u001b[0m in \u001b[0;36m<cell line: 0>\u001b[0;34m()\u001b[0m\n\u001b[1;32m      1\u001b[0m \u001b[0mmy_tuple\u001b[0m \u001b[0;34m==\u001b[0m \u001b[0;34m(\u001b[0m\u001b[0;34m\"Palak\"\u001b[0m\u001b[0;34m,\u001b[0m\u001b[0;34m\"Nishit\"\u001b[0m\u001b[0;34m,\u001b[0m\u001b[0;34m\"Divya\"\u001b[0m\u001b[0;34m,\u001b[0m\u001b[0;36m34\u001b[0m\u001b[0;34m,\u001b[0m\u001b[0;36m45\u001b[0m\u001b[0;34m)\u001b[0m\u001b[0;34m\u001b[0m\u001b[0;34m\u001b[0m\u001b[0m\n\u001b[0;32m----> 2\u001b[0;31m \u001b[0mmy_tuple\u001b[0m \u001b[0;34m(\u001b[0m\u001b[0;36m0\u001b[0m\u001b[0;34m)\u001b[0m \u001b[0;34m==\u001b[0m \u001b[0;34m\"Shail\"\u001b[0m\u001b[0;34m\u001b[0m\u001b[0;34m\u001b[0m\u001b[0m\n\u001b[0m\u001b[1;32m      3\u001b[0m \u001b[0mprint\u001b[0m\u001b[0;34m(\u001b[0m\u001b[0;34m\"updated my_tuple: \"\u001b[0m\u001b[0;34m,\u001b[0m\u001b[0mmy_tuple\u001b[0m\u001b[0;34m)\u001b[0m\u001b[0;34m\u001b[0m\u001b[0;34m\u001b[0m\u001b[0m\n",
            "\u001b[0;31mTypeError\u001b[0m: 'tuple' object is not callable"
          ]
        }
      ]
    },
    {
      "cell_type": "markdown",
      "source": [
        "above example shows that elements in the list can be changed and elemets in the tuple cannot be changed."
      ],
      "metadata": {
        "id": "U_-A8lQJnn6P"
      }
    },
    {
      "cell_type": "code",
      "source": [
        "# 3. Write a function to demonstrate the behavior of mutable and immutable arguments.\n",
        "my_list =[24, 45, 56, \"Palak\", 36, \"Nishit\"]\n",
        "my_list[4] = \"Divya\"\n",
        "print(my_list)"
      ],
      "metadata": {
        "colab": {
          "base_uri": "https://localhost:8080/"
        },
        "id": "7daBRAX9nU-G",
        "outputId": "76d12632-6fff-4c29-8e1d-70a3cf49d39e"
      },
      "execution_count": 5,
      "outputs": [
        {
          "output_type": "stream",
          "name": "stdout",
          "text": [
            "[24, 45, 56, 'Palak', 'Divya', 'Nishit']\n"
          ]
        }
      ]
    },
    {
      "cell_type": "code",
      "source": [
        "my_name = \"Palak\"\n",
        "my_name[2] = \"j\"\n",
        "print(my_name)"
      ],
      "metadata": {
        "colab": {
          "base_uri": "https://localhost:8080/",
          "height": 176
        },
        "id": "TAdqgDb4pciW",
        "outputId": "6ef8a016-c922-4b15-b00f-f93a061e0114"
      },
      "execution_count": 6,
      "outputs": [
        {
          "output_type": "error",
          "ename": "TypeError",
          "evalue": "'str' object does not support item assignment",
          "traceback": [
            "\u001b[0;31m---------------------------------------------------------------------------\u001b[0m",
            "\u001b[0;31mTypeError\u001b[0m                                 Traceback (most recent call last)",
            "\u001b[0;32m<ipython-input-6-44279a144813>\u001b[0m in \u001b[0;36m<cell line: 0>\u001b[0;34m()\u001b[0m\n\u001b[1;32m      1\u001b[0m \u001b[0mmy_name\u001b[0m \u001b[0;34m=\u001b[0m \u001b[0;34m\"Palak\"\u001b[0m\u001b[0;34m\u001b[0m\u001b[0;34m\u001b[0m\u001b[0m\n\u001b[0;32m----> 2\u001b[0;31m \u001b[0mmy_name\u001b[0m\u001b[0;34m[\u001b[0m\u001b[0;36m2\u001b[0m\u001b[0;34m]\u001b[0m \u001b[0;34m=\u001b[0m \u001b[0;34m\"j\"\u001b[0m\u001b[0;34m\u001b[0m\u001b[0;34m\u001b[0m\u001b[0m\n\u001b[0m\u001b[1;32m      3\u001b[0m \u001b[0mprint\u001b[0m\u001b[0;34m(\u001b[0m\u001b[0mmy_name\u001b[0m\u001b[0;34m)\u001b[0m\u001b[0;34m\u001b[0m\u001b[0;34m\u001b[0m\u001b[0m\n",
            "\u001b[0;31mTypeError\u001b[0m: 'str' object does not support item assignment"
          ]
        }
      ]
    },
    {
      "cell_type": "code",
      "source": [
        "\n",
        "# 4. Write a program that performs basic arithmetic operations on two user-input numbers.\n",
        "a = int(input(\"Enter first number : \"))\n",
        "b = int(input(\"Enter second number: \" ))\n",
        "Sum = a+b\n",
        "print(Sum)"
      ],
      "metadata": {
        "colab": {
          "base_uri": "https://localhost:8080/"
        },
        "id": "1aKmRYbYqjnH",
        "outputId": "b7b88c45-5043-4427-d52b-c86bad781279"
      },
      "execution_count": 9,
      "outputs": [
        {
          "output_type": "stream",
          "name": "stdout",
          "text": [
            "Enter first number : 24\n",
            "Enter second number: 35\n",
            "59\n"
          ]
        }
      ]
    },
    {
      "cell_type": "code",
      "source": [
        "#  5.Write a program to demonstrate the use of logical operators.\n",
        "print(True or Flase)\n"
      ],
      "metadata": {
        "colab": {
          "base_uri": "https://localhost:8080/"
        },
        "id": "IR5nyDsKrjzM",
        "outputId": "8fbc2dcc-561f-4703-901e-7d82e1de7268"
      },
      "execution_count": 11,
      "outputs": [
        {
          "output_type": "stream",
          "name": "stdout",
          "text": [
            "True\n"
          ]
        }
      ]
    },
    {
      "cell_type": "code",
      "source": [
        "print(True and False)"
      ],
      "metadata": {
        "colab": {
          "base_uri": "https://localhost:8080/"
        },
        "id": "u-lYqivDsmta",
        "outputId": "33af39e7-6108-49d4-c524-22d792a6d002"
      },
      "execution_count": 12,
      "outputs": [
        {
          "output_type": "stream",
          "name": "stdout",
          "text": [
            "False\n"
          ]
        }
      ]
    },
    {
      "cell_type": "code",
      "source": [
        "print(1 or 2)\n"
      ],
      "metadata": {
        "colab": {
          "base_uri": "https://localhost:8080/"
        },
        "id": "rWPp4e15s1VV",
        "outputId": "3aa2a60d-4323-4c06-fd82-20dfa9682543"
      },
      "execution_count": 15,
      "outputs": [
        {
          "output_type": "stream",
          "name": "stdout",
          "text": [
            "1\n"
          ]
        }
      ]
    },
    {
      "cell_type": "code",
      "source": [
        "print(1 and 2)"
      ],
      "metadata": {
        "colab": {
          "base_uri": "https://localhost:8080/"
        },
        "id": "dQp9L_J6tBNg",
        "outputId": "ac79c281-fa8d-4f74-8994-695b7c1b98f9"
      },
      "execution_count": 16,
      "outputs": [
        {
          "output_type": "stream",
          "name": "stdout",
          "text": [
            "2\n"
          ]
        }
      ]
    },
    {
      "cell_type": "code",
      "source": [
        "#  6.Write a Python program to convert user input from string to integer, float, and boolean type\n",
        "\n",
        "a = int(input(\"enter a number : \"))\n",
        "\n",
        "print(a)"
      ],
      "metadata": {
        "colab": {
          "base_uri": "https://localhost:8080/"
        },
        "id": "FdLqzZZOtKcd",
        "outputId": "7c82c87c-c432-4ad1-d345-f493bf2c9fa7"
      },
      "execution_count": 25,
      "outputs": [
        {
          "output_type": "stream",
          "name": "stdout",
          "text": [
            "enter a number : 34\n",
            "34\n"
          ]
        }
      ]
    },
    {
      "cell_type": "code",
      "source": [
        "float(a)"
      ],
      "metadata": {
        "colab": {
          "base_uri": "https://localhost:8080/"
        },
        "id": "j5xhSDjvvvnI",
        "outputId": "f7588692-84c9-4156-852a-91a2a4eaacad"
      },
      "execution_count": 26,
      "outputs": [
        {
          "output_type": "execute_result",
          "data": {
            "text/plain": [
              "34.0"
            ]
          },
          "metadata": {},
          "execution_count": 26
        }
      ]
    },
    {
      "cell_type": "code",
      "source": [
        "bool(a)"
      ],
      "metadata": {
        "colab": {
          "base_uri": "https://localhost:8080/"
        },
        "id": "iS27kFIpv4mL",
        "outputId": "22d9adac-1e9c-4fdd-b912-88b000d799a8"
      },
      "execution_count": 27,
      "outputs": [
        {
          "output_type": "execute_result",
          "data": {
            "text/plain": [
              "True"
            ]
          },
          "metadata": {},
          "execution_count": 27
        }
      ]
    },
    {
      "cell_type": "code",
      "source": [
        "#  7.Write code to demonstrate type casting with list elements.\n",
        "\n",
        "a = [\"palak\"]\n",
        "b = [\"45\"]\n",
        "a + b"
      ],
      "metadata": {
        "colab": {
          "base_uri": "https://localhost:8080/"
        },
        "id": "RAneoei4xDW9",
        "outputId": "a5381e86-f2c9-44d4-be27-3b2b7b96e095"
      },
      "execution_count": 32,
      "outputs": [
        {
          "output_type": "execute_result",
          "data": {
            "text/plain": [
              "['palak', '45']"
            ]
          },
          "metadata": {},
          "execution_count": 32
        }
      ]
    },
    {
      "cell_type": "code",
      "source": [
        "# 8.  Write a program that checks if a number is positive, negative, or zero.\n",
        "num = int(input(\"enter a number: \"))\n",
        "if num > 0 :\n",
        "  print(\"number is positive\")\n",
        "elif num < 0 :\n",
        "  print(\"number is negative\")\n",
        "else :\n",
        "  print(\"number is zero\")"
      ],
      "metadata": {
        "colab": {
          "base_uri": "https://localhost:8080/"
        },
        "id": "31rvTYGn6CV9",
        "outputId": "5b395336-f497-47c3-c2ad-52c01536aa95"
      },
      "execution_count": 34,
      "outputs": [
        {
          "output_type": "stream",
          "name": "stdout",
          "text": [
            "enter a number: 87\n",
            "number is positive\n"
          ]
        }
      ]
    },
    {
      "cell_type": "code",
      "source": [
        "num = int(input(\"enter a number: \"))\n",
        "if num > 0 :\n",
        "  print(\"number is positive\")\n",
        "elif num < 0 :\n",
        "  print(\"number is negative\")\n",
        "else :\n",
        "  print(\"number is zero\")"
      ],
      "metadata": {
        "colab": {
          "base_uri": "https://localhost:8080/"
        },
        "id": "ADwffFyL7u5M",
        "outputId": "ba89e5f9-018b-40fb-ae6e-ce3340c8ad2d"
      },
      "execution_count": 35,
      "outputs": [
        {
          "output_type": "stream",
          "name": "stdout",
          "text": [
            "enter a number: -45\n",
            "number is negative\n"
          ]
        }
      ]
    },
    {
      "cell_type": "code",
      "source": [
        "num = int(input(\"enter a number: \"))\n",
        "if num > 0 :\n",
        "  print(\"number is positive\")\n",
        "elif num < 0 :\n",
        "  print(\"number is negative\")\n",
        "else :\n",
        "  print(\"number is zero\")"
      ],
      "metadata": {
        "colab": {
          "base_uri": "https://localhost:8080/"
        },
        "id": "KM1cZH7T72ZI",
        "outputId": "a023ca14-98d7-43e1-8057-48b7fef20176"
      },
      "execution_count": 36,
      "outputs": [
        {
          "output_type": "stream",
          "name": "stdout",
          "text": [
            "enter a number: 0\n",
            "number is zero\n"
          ]
        }
      ]
    },
    {
      "cell_type": "code",
      "source": [
        "# 9. Write a for loop to print numbers from 1 to 10.\n",
        "l = [1,2,3,4,5,6,7,8,9,10]\n",
        "for i in l:\n",
        "  print(i)\n"
      ],
      "metadata": {
        "colab": {
          "base_uri": "https://localhost:8080/"
        },
        "id": "N4GRpDmJ75OJ",
        "outputId": "429822ba-1cca-4311-8db1-f847f9ebb622"
      },
      "execution_count": 39,
      "outputs": [
        {
          "output_type": "stream",
          "name": "stdout",
          "text": [
            "1\n",
            "2\n",
            "3\n",
            "4\n",
            "5\n",
            "6\n",
            "7\n",
            "8\n",
            "9\n",
            "10\n"
          ]
        }
      ]
    },
    {
      "cell_type": "code",
      "source": [
        "# 10. Write a Python program to find the sum of all even numbers between 1 and 5\n",
        "for num in range(1,51):\n",
        "  if num % 2 == 0:\n",
        "    a += num\n",
        "    print(num)\n"
      ],
      "metadata": {
        "colab": {
          "base_uri": "https://localhost:8080/"
        },
        "id": "oTJ69b9n9QSF",
        "outputId": "eee90782-b148-4d4a-84d2-4aea9db7a0af"
      },
      "execution_count": 43,
      "outputs": [
        {
          "output_type": "stream",
          "name": "stdout",
          "text": [
            "2\n",
            "4\n",
            "6\n",
            "8\n",
            "10\n",
            "12\n",
            "14\n",
            "16\n",
            "18\n",
            "20\n",
            "22\n",
            "24\n",
            "26\n",
            "28\n",
            "30\n",
            "32\n",
            "34\n",
            "36\n",
            "38\n",
            "40\n",
            "42\n",
            "44\n",
            "46\n",
            "48\n",
            "50\n"
          ]
        }
      ]
    },
    {
      "cell_type": "code",
      "source": [
        "#  11.Write a program to reverse a string using a while loop.\n",
        "n = 1\n",
        "i = 7\n",
        "while i>n :\n",
        "  print(i)\n",
        "  i = i-1"
      ],
      "metadata": {
        "colab": {
          "base_uri": "https://localhost:8080/"
        },
        "id": "vksRlMfSJJIY",
        "outputId": "5e860524-d494-4905-8f12-b4761023caa0"
      },
      "execution_count": 46,
      "outputs": [
        {
          "output_type": "stream",
          "name": "stdout",
          "text": [
            "7\n",
            "6\n",
            "5\n",
            "4\n",
            "3\n",
            "2\n"
          ]
        }
      ]
    },
    {
      "cell_type": "code",
      "source": [
        "# 12.  Write a Python program to calculate the factorial of a number provided by the user using a while loop"
      ],
      "metadata": {
        "id": "ev5jAlBuJpB4"
      },
      "execution_count": null,
      "outputs": []
    }
  ]
}